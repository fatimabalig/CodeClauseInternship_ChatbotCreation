{
  "nbformat": 4,
  "nbformat_minor": 0,
  "metadata": {
    "colab": {
      "provenance": [],
      "authorship_tag": "ABX9TyNZ2e8vn5jR7qFzBHt91MSP",
      "include_colab_link": true
    },
    "kernelspec": {
      "name": "python3",
      "display_name": "Python 3"
    },
    "language_info": {
      "name": "python"
    }
  },
  "cells": [
    {
      "cell_type": "markdown",
      "metadata": {
        "id": "view-in-github",
        "colab_type": "text"
      },
      "source": [
        "<a href=\"https://colab.research.google.com/github/fatimabalig/CodeClauseInternship_ChatbotCreation/blob/main/Chatbot_Creation.ipynb\" target=\"_parent\"><img src=\"https://colab.research.google.com/assets/colab-badge.svg\" alt=\"Open In Colab\"/></a>"
      ]
    },
    {
      "cell_type": "code",
      "source": [
        "pip install nltk\n"
      ],
      "metadata": {
        "colab": {
          "base_uri": "https://localhost:8080/"
        },
        "id": "7RzAdry2Q8Q3",
        "outputId": "105b68eb-293a-4a61-8345-b968cf4e223b"
      },
      "execution_count": 1,
      "outputs": [
        {
          "output_type": "stream",
          "name": "stdout",
          "text": [
            "Requirement already satisfied: nltk in /usr/local/lib/python3.10/dist-packages (3.8.1)\n",
            "Requirement already satisfied: click in /usr/local/lib/python3.10/dist-packages (from nltk) (8.1.7)\n",
            "Requirement already satisfied: joblib in /usr/local/lib/python3.10/dist-packages (from nltk) (1.4.2)\n",
            "Requirement already satisfied: regex>=2021.8.3 in /usr/local/lib/python3.10/dist-packages (from nltk) (2024.9.11)\n",
            "Requirement already satisfied: tqdm in /usr/local/lib/python3.10/dist-packages (from nltk) (4.66.5)\n"
          ]
        }
      ]
    },
    {
      "cell_type": "code",
      "source": [
        "import re\n",
        "import random\n",
        "import nltk\n"
      ],
      "metadata": {
        "id": "ZJ4uobCzRE9a"
      },
      "execution_count": 2,
      "outputs": []
    },
    {
      "cell_type": "code",
      "source": [
        "# Input-output pairs using regular expressions and lists of responses\n",
        "input_output_pairs = [\n",
        "    (r'hello|hi|hey', ['Hello!', 'Hi there!', 'Hey!']),\n",
        "    (r'how are you|how do you do', ['I am doing well, thank you!', 'I am a bot, but I am doing fine!', 'All systems are working perfectly!']),\n",
        "    (r'what is your name|who are you', ['I am a friendly chatbot.', 'You can call me Chatbot.', 'I am a simple chatbot.']),\n",
        "    (r'what is your age|tell me your age', ['I am just a computer program i do not have an age.']),\n",
        "    (r'who created you|how were you created', ['I was created by a developer using NLTK.']),\n",
        "    (r'thank you|thanks', ['You\\'re welcome!', 'No problem!', 'Glad I could help!']),\n",
        "    (r'bye|goodbye|see you|exit', ['Goodbye!', 'See you later!', 'Take care!']),\n",
        "]\n",
        "\n",
        "# Default response if no match is found\n",
        "default_response = [\"I'm not sure I understand.\", \"Can you clarify that?\", \"I don't quite get that.\",\"Can you rephrase that?\"]\n"
      ],
      "metadata": {
        "id": "saULtiu8RN-P"
      },
      "execution_count": 3,
      "outputs": []
    },
    {
      "cell_type": "code",
      "source": [
        "def get_response(user_input):\n",
        "    # Iterate over each pattern in input_output_pairs\n",
        "    for pattern, responses in input_output_pairs:\n",
        "        # If the user input matches the regular expression pattern\n",
        "        if re.search(pattern, user_input.lower()):\n",
        "            # Return a random response from the matching list of responses\n",
        "            return random.choice(responses)\n",
        "    # If no match is found, return a default response\n",
        "    return random.choice(default_response)\n"
      ],
      "metadata": {
        "id": "dCGmsq-7RUNt"
      },
      "execution_count": 4,
      "outputs": []
    },
    {
      "cell_type": "code",
      "source": [
        "def chat():\n",
        "    print(\"Chatbot: Welcome to the Chatbot!\")\n",
        "    while True:\n",
        "        # Get input from the user\n",
        "        user_input = input(\"You: \")\n",
        "        # If the user types 'bye' or other exit keywords, end the chat\n",
        "        if re.search(r'bye|goodbye|exit|quit', user_input.lower()):\n",
        "            print(\"Chatbot: Goodbye! It was great chatting with you.\")\n",
        "            break\n",
        "        # Get and print the chatbot's response\n",
        "        response = get_response(user_input)\n",
        "        print(f\"Chatbot: {response}\")\n",
        "\n",
        "# Run the chat function\n",
        "if __name__ == \"__main__\":\n",
        "    chat()\n"
      ],
      "metadata": {
        "colab": {
          "base_uri": "https://localhost:8080/"
        },
        "id": "JWRnyK3DRa77",
        "outputId": "99b7e1fa-f0eb-4e1f-d7bf-ec23d35e7c68"
      },
      "execution_count": 6,
      "outputs": [
        {
          "output_type": "stream",
          "name": "stdout",
          "text": [
            "Chatbot: Welcome to the Chatbot!\n",
            "You: Hey\n",
            "Chatbot: Hey!\n",
            "You: How are you?\n",
            "Chatbot: I am doing well, thank you!\n",
            "You: What is your name?\n",
            "Chatbot: I am a friendly chatbot.\n",
            "You: Who created you?\n",
            "Chatbot: I was created by a developer using NLTK.\n",
            "You: What is your age?\n",
            "Chatbot: I am just a computer program i do not have an age.\n",
            "You: Thank you for answering me!\n",
            "Chatbot: Glad I could help!\n",
            "You: Bye see you!\n",
            "Chatbot: Goodbye! It was great chatting with you.\n"
          ]
        }
      ]
    }
  ]
}